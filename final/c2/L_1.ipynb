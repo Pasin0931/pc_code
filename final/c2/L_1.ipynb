{
 "cells": [
  {
   "cell_type": "code",
   "execution_count": 2,
   "id": "796bb4a0",
   "metadata": {},
   "outputs": [
    {
     "name": "stdout",
     "output_type": "stream",
     "text": [
      "Preferences object saved to preferences.pkl\n"
     ]
    }
   ],
   "source": [
    "import pickle\n",
    "\n",
    "# A complex Python object\n",
    "user_prefs = {\"font_size\": 12, \"theme\": \"dark\", \"bookmarks\": [101, 205, 350]}\n",
    "\n",
    "with open('preferences.pkl', 'wb') as f:\n",
    "    pickle.dump(user_prefs, f)\n",
    "    \n",
    "print(\"Preferences object saved to preferences.pkl\")"
   ]
  },
  {
   "cell_type": "code",
   "execution_count": null,
   "id": "f05853b3",
   "metadata": {},
   "outputs": [
    {
     "name": "stdout",
     "output_type": "stream",
     "text": [
      "**********\n",
      "None\n"
     ]
    }
   ],
   "source": [
    "def nigga(n):\n",
    "    if n == 1:\n",
    "        return\n",
    "    print(\"*\" * n)\n",
    "    nigga(n-1)\n",
    "    return\n",
    "\n",
    "print(nigga(10))"
   ]
  }
 ],
 "metadata": {
  "kernelspec": {
   "display_name": "Python 3",
   "language": "python",
   "name": "python3"
  },
  "language_info": {
   "codemirror_mode": {
    "name": "ipython",
    "version": 3
   },
   "file_extension": ".py",
   "mimetype": "text/x-python",
   "name": "python",
   "nbconvert_exporter": "python",
   "pygments_lexer": "ipython3",
   "version": "3.11.6"
  }
 },
 "nbformat": 4,
 "nbformat_minor": 5
}
